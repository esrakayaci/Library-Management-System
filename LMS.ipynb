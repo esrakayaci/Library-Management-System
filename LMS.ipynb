{
  "nbformat": 4,
  "nbformat_minor": 0,
  "metadata": {
    "colab": {
      "provenance": [],
      "authorship_tag": "ABX9TyPpmtLEJ59Xf+h3Nssn+JuL",
      "include_colab_link": true
    },
    "kernelspec": {
      "name": "python3",
      "display_name": "Python 3"
    },
    "language_info": {
      "name": "python"
    }
  },
  "cells": [
    {
      "cell_type": "markdown",
      "metadata": {
        "id": "view-in-github",
        "colab_type": "text"
      },
      "source": [
        "<a href=\"https://colab.research.google.com/github/sudek7/Library-Management-System/blob/main/LMS.ipynb\" target=\"_parent\"><img src=\"https://colab.research.google.com/assets/colab-badge.svg\" alt=\"Open In Colab\"/></a>"
      ]
    },
    {
      "cell_type": "code",
      "execution_count": null,
      "metadata": {
        "colab": {
          "base_uri": "https://localhost:8080/"
        },
        "id": "Fsqdeizgfbsb",
        "outputId": "33b81f44-e322-4d25-8b5f-7d40550dfdbe"
      },
      "outputs": [
        {
          "output_type": "stream",
          "name": "stdout",
          "text": [
            "\n",
            "*** MENU ***\n",
            "1) List Books\n",
            "2) Add Book\n",
            "3) Remove Book\n",
            "4) Exit\n"
          ]
        }
      ],
      "source": [
        "class Library:\n",
        "    def __init__(self):\n",
        "        self.file = open(\"books.txt\", \"a+\")\n",
        "\n",
        "    def list_books(self):\n",
        "        self.file.seek(0)\n",
        "        lines = self.file.read().splitlines()\n",
        "        print(\"\\nList Books\")\n",
        "        for line in lines:\n",
        "            books = line.split(',')\n",
        "            book_name, author, release_date, num_pages = books\n",
        "            print(f\"{book_name}, {author}\")\n",
        "\n",
        "    def add_book(self):\n",
        "        book_name = input(\"Enter book title: \")\n",
        "        author = input(\"Enter book author: \")\n",
        "        release_date = input(\"Enter release year: \")\n",
        "        num_pages = input(\"Enter number of pages: \")\n",
        "\n",
        "        books = f\"{book_name},{author},{release_date},{num_pages}\\n\"\n",
        "        self.file.write(books)\n",
        "\n",
        "    def remove_book(self):\n",
        "        remove = input(\"Enter the title of the book to remove: \")\n",
        "\n",
        "        self.file.seek(0)\n",
        "        lines = self.file.read().splitlines()\n",
        "\n",
        "        new_lines = [line for line in lines if not line.startswith(remove + ',')]\n",
        "\n",
        "        self.file.truncate(0)\n",
        "        self.file.seek(0)\n",
        "\n",
        "        for new_line in new_lines:\n",
        "            self.file.write(new_line + '\\n')\n",
        "\n",
        "    def __del__(self):\n",
        "        self.file.close()\n",
        "\n",
        "lib = Library()\n",
        "\n",
        "while True:\n",
        "    print(\"\\n*** MENU ***\\n1) List Books\\n2) Add Book\\n3) Remove Book\\n4) Exit\")\n",
        "    user_input = input(\"Select an option (1-4): \")\n",
        "\n",
        "    if user_input == \"1\":\n",
        "        lib.list_books()\n",
        "    elif user_input == \"2\":\n",
        "        lib.add_book()\n",
        "    elif user_input == \"3\":\n",
        "        lib.remove_book()\n",
        "    elif user_input == \"4\":\n",
        "        break\n",
        "    else:\n",
        "        print(\"\\nPlease enter a valid option (1-4):\")\n",
        "\n",
        "del lib\n"
      ]
    }
  ]
}