{
  "nbformat": 4,
  "nbformat_minor": 0,
  "metadata": {
    "colab": {
      "provenance": [],
      "authorship_tag": "ABX9TyPpmtLEJ59Xf+h3Nssn+JuL",
      "include_colab_link": true
    },
    "kernelspec": {
      "name": "python3",
      "display_name": "Python 3"
    },
    "language_info": {
      "name": "python"
    }
  },
  "cells": [
    {
      "cell_type": "markdown",
      "metadata": {
        "id": "view-in-github",
        "colab_type": "text"
      },
      "source": [
        "<a href=\"https://colab.research.google.com/github/sudek7/Library-Management-System/blob/main/LMS.ipynb\" target=\"_parent\"><img src=\"https://colab.research.google.com/assets/colab-badge.svg\" alt=\"Open In Colab\"/></a>"
      ]
    },
    {
      "cell_type": "code",
      "execution_count": null,
      "metadata": {
        "colab": {
          "base_uri": "https://localhost:8080/",
          "height": 1000
        },
        "id": "Fsqdeizgfbsb",
        "outputId": "b6fb55e3-fbb6-40e1-9fe8-ac189413bf01"
      },
      "outputs": [
        {
          "output_type": "stream",
          "name": "stdout",
          "text": [
            "\n",
            "*** MENU ***\n",
            "1) List Books\n",
            "2) Add Book\n",
            "3) Remove Book\n",
            "4) Exit\n",
            "Select an option (1-4): 2\n",
            "Enter book title: c\n",
            "Enter book author: 3\n",
            "Enter release year: 154\n",
            "Enter number of pages: 15\n",
            "\n",
            "*** MENU ***\n",
            "1) List Books\n",
            "2) Add Book\n",
            "3) Remove Book\n",
            "4) Exit\n",
            "Select an option (1-4): 1\n",
            "\n",
            "List Books\n",
            "b, 2\n",
            "c, 3\n",
            "\n",
            "*** MENU ***\n",
            "1) List Books\n",
            "2) Add Book\n",
            "3) Remove Book\n",
            "4) Exit\n",
            "Select an option (1-4): 3\n",
            "Enter the title of the book to remove: c\n",
            "\n",
            "*** MENU ***\n",
            "1) List Books\n",
            "2) Add Book\n",
            "3) Remove Book\n",
            "4) Exit\n",
            "Select an option (1-4): 1\n",
            "\n",
            "List Books\n",
            "b, 2\n",
            "\n",
            "*** MENU ***\n",
            "1) List Books\n",
            "2) Add Book\n",
            "3) Remove Book\n",
            "4) Exit\n",
            "Select an option (1-4): 6\n",
            "\n",
            "Please enter a valid option (1-4):\n",
            "\n",
            "*** MENU ***\n",
            "1) List Books\n",
            "2) Add Book\n",
            "3) Remove Book\n",
            "4) Exit\n"
          ]
        },
        {
          "output_type": "error",
          "ename": "KeyboardInterrupt",
          "evalue": "Interrupted by user",
          "traceback": [
            "\u001b[0;31m---------------------------------------------------------------------------\u001b[0m",
            "\u001b[0;31mKeyboardInterrupt\u001b[0m                         Traceback (most recent call last)",
            "\u001b[0;32m<ipython-input-2-41569dc2789d>\u001b[0m in \u001b[0;36m<cell line: 42>\u001b[0;34m()\u001b[0m\n\u001b[1;32m     42\u001b[0m \u001b[0;32mwhile\u001b[0m \u001b[0;32mTrue\u001b[0m\u001b[0;34m:\u001b[0m\u001b[0;34m\u001b[0m\u001b[0;34m\u001b[0m\u001b[0m\n\u001b[1;32m     43\u001b[0m     \u001b[0mprint\u001b[0m\u001b[0;34m(\u001b[0m\u001b[0;34m\"\\n*** MENU ***\\n1) List Books\\n2) Add Book\\n3) Remove Book\\n4) Exit\"\u001b[0m\u001b[0;34m)\u001b[0m\u001b[0;34m\u001b[0m\u001b[0;34m\u001b[0m\u001b[0m\n\u001b[0;32m---> 44\u001b[0;31m     \u001b[0muser_input\u001b[0m \u001b[0;34m=\u001b[0m \u001b[0minput\u001b[0m\u001b[0;34m(\u001b[0m\u001b[0;34m\"Select an option (1-4): \"\u001b[0m\u001b[0;34m)\u001b[0m\u001b[0;34m\u001b[0m\u001b[0;34m\u001b[0m\u001b[0m\n\u001b[0m\u001b[1;32m     45\u001b[0m \u001b[0;34m\u001b[0m\u001b[0m\n\u001b[1;32m     46\u001b[0m     \u001b[0;32mif\u001b[0m \u001b[0muser_input\u001b[0m \u001b[0;34m==\u001b[0m \u001b[0;34m\"1\"\u001b[0m\u001b[0;34m:\u001b[0m\u001b[0;34m\u001b[0m\u001b[0;34m\u001b[0m\u001b[0m\n",
            "\u001b[0;32m/usr/local/lib/python3.10/dist-packages/ipykernel/kernelbase.py\u001b[0m in \u001b[0;36mraw_input\u001b[0;34m(self, prompt)\u001b[0m\n\u001b[1;32m    849\u001b[0m                 \u001b[0;34m\"raw_input was called, but this frontend does not support input requests.\"\u001b[0m\u001b[0;34m\u001b[0m\u001b[0;34m\u001b[0m\u001b[0m\n\u001b[1;32m    850\u001b[0m             )\n\u001b[0;32m--> 851\u001b[0;31m         return self._input_request(str(prompt),\n\u001b[0m\u001b[1;32m    852\u001b[0m             \u001b[0mself\u001b[0m\u001b[0;34m.\u001b[0m\u001b[0m_parent_ident\u001b[0m\u001b[0;34m,\u001b[0m\u001b[0;34m\u001b[0m\u001b[0;34m\u001b[0m\u001b[0m\n\u001b[1;32m    853\u001b[0m             \u001b[0mself\u001b[0m\u001b[0;34m.\u001b[0m\u001b[0m_parent_header\u001b[0m\u001b[0;34m,\u001b[0m\u001b[0;34m\u001b[0m\u001b[0;34m\u001b[0m\u001b[0m\n",
            "\u001b[0;32m/usr/local/lib/python3.10/dist-packages/ipykernel/kernelbase.py\u001b[0m in \u001b[0;36m_input_request\u001b[0;34m(self, prompt, ident, parent, password)\u001b[0m\n\u001b[1;32m    893\u001b[0m             \u001b[0;32mexcept\u001b[0m \u001b[0mKeyboardInterrupt\u001b[0m\u001b[0;34m:\u001b[0m\u001b[0;34m\u001b[0m\u001b[0;34m\u001b[0m\u001b[0m\n\u001b[1;32m    894\u001b[0m                 \u001b[0;31m# re-raise KeyboardInterrupt, to truncate traceback\u001b[0m\u001b[0;34m\u001b[0m\u001b[0;34m\u001b[0m\u001b[0m\n\u001b[0;32m--> 895\u001b[0;31m                 \u001b[0;32mraise\u001b[0m \u001b[0mKeyboardInterrupt\u001b[0m\u001b[0;34m(\u001b[0m\u001b[0;34m\"Interrupted by user\"\u001b[0m\u001b[0;34m)\u001b[0m \u001b[0;32mfrom\u001b[0m \u001b[0;32mNone\u001b[0m\u001b[0;34m\u001b[0m\u001b[0;34m\u001b[0m\u001b[0m\n\u001b[0m\u001b[1;32m    896\u001b[0m             \u001b[0;32mexcept\u001b[0m \u001b[0mException\u001b[0m \u001b[0;32mas\u001b[0m \u001b[0me\u001b[0m\u001b[0;34m:\u001b[0m\u001b[0;34m\u001b[0m\u001b[0;34m\u001b[0m\u001b[0m\n\u001b[1;32m    897\u001b[0m                 \u001b[0mself\u001b[0m\u001b[0;34m.\u001b[0m\u001b[0mlog\u001b[0m\u001b[0;34m.\u001b[0m\u001b[0mwarning\u001b[0m\u001b[0;34m(\u001b[0m\u001b[0;34m\"Invalid Message:\"\u001b[0m\u001b[0;34m,\u001b[0m \u001b[0mexc_info\u001b[0m\u001b[0;34m=\u001b[0m\u001b[0;32mTrue\u001b[0m\u001b[0;34m)\u001b[0m\u001b[0;34m\u001b[0m\u001b[0;34m\u001b[0m\u001b[0m\n",
            "\u001b[0;31mKeyboardInterrupt\u001b[0m: Interrupted by user"
          ]
        }
      ],
      "source": [
        "class Library:\n",
        "    def __init__(self):\n",
        "        self.file = open(\"books.txt\", \"a+\")\n",
        "\n",
        "    def list_books(self):\n",
        "        self.file.seek(0)\n",
        "        lines = self.file.read().splitlines()\n",
        "        print(\"\\nList Books\")\n",
        "        for line in lines:\n",
        "            books = line.split(',')\n",
        "            book_name, author, release_date, num_pages = books\n",
        "            print(f\"{book_name}, {author}\")\n",
        "\n",
        "    def add_book(self):\n",
        "        book_name = input(\"Enter book title: \")\n",
        "        author = input(\"Enter book author: \")\n",
        "        release_date = input(\"Enter release year: \")\n",
        "        num_pages = input(\"Enter number of pages: \")\n",
        "\n",
        "        books = f\"{book_name},{author},{release_date},{num_pages}\\n\"\n",
        "        self.file.write(books)\n",
        "\n",
        "    def remove_book(self):\n",
        "        remove = input(\"Enter the title of the book to remove: \")\n",
        "\n",
        "        self.file.seek(0)\n",
        "        lines = self.file.read().splitlines()\n",
        "\n",
        "        new_lines = [line for line in lines if not line.startswith(remove + ',')]\n",
        "\n",
        "        self.file.truncate(0)\n",
        "        self.file.seek(0)\n",
        "\n",
        "        for new_line in new_lines:\n",
        "            self.file.write(new_line + '\\n')\n",
        "\n",
        "    def __del__(self):\n",
        "        self.file.close()\n",
        "\n",
        "lib = Library()\n",
        "\n",
        "while True:\n",
        "    print(\"\\n*** MENU ***\\n1) List Books\\n2) Add Book\\n3) Remove Book\\n4) Exit\")\n",
        "    user_input = input(\"Select an option (1-4): \")\n",
        "\n",
        "    if user_input == \"1\":\n",
        "        lib.list_books()\n",
        "    elif user_input == \"2\":\n",
        "        lib.add_book()\n",
        "    elif user_input == \"3\":\n",
        "        lib.remove_book()\n",
        "    elif user_input == \"4\":\n",
        "        break\n",
        "    else:\n",
        "        print(\"\\nPlease enter a valid option (1-4):\")\n",
        "\n",
        "del lib\n"
      ]
    }
  ]
}